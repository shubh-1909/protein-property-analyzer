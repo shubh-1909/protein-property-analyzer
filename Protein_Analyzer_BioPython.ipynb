{
  "nbformat": 4,
  "nbformat_minor": 0,
  "metadata": {
    "colab": {
      "provenance": []
    },
    "kernelspec": {
      "name": "python3",
      "display_name": "Python 3"
    },
    "language_info": {
      "name": "python"
    }
  },
  "cells": [
    {
      "cell_type": "markdown",
      "source": [
        "# 🧬 Protein Property Analyzer using BioPython\n",
        "Analyze key protein characteristics like molecular weight, isoelectric point (pI), and hydrophobicity using Python and BioPython.\n",
        "\n",
        "---\n",
        "\n",
        "## 📌 Project Goals:\n",
        "- Input a protein sequence\n",
        "- Analyze its physical and chemical properties\n",
        "- Visualize amino acid composition\n",
        "- Build a job-ready portfolio project\n"
      ],
      "metadata": {
        "id": "6bYArmT8xKjC"
      }
    },
    {
      "cell_type": "code",
      "execution_count": 14,
      "metadata": {
        "colab": {
          "base_uri": "https://localhost:8080/"
        },
        "id": "k0ageeATv_oZ",
        "outputId": "e974a86a-4d2f-48a1-f41c-c2ea62be5c4b"
      },
      "outputs": [
        {
          "output_type": "stream",
          "name": "stdout",
          "text": [
            "Requirement already satisfied: biopython in /usr/local/lib/python3.11/dist-packages (1.85)\n",
            "Requirement already satisfied: numpy in /usr/local/lib/python3.11/dist-packages (from biopython) (2.0.2)\n"
          ]
        }
      ],
      "source": [
        "# 📦 Install required library\n",
        "!pip install biopython\n",
        "\n"
      ]
    },
    {
      "cell_type": "code",
      "source": [
        "## 🧬 Step 1: Input Protein Sequence\n",
        "# Paste or type any valid protein sequence using standard 1-letter amino acid codes.\n",
        "\n"
      ],
      "metadata": {
        "id": "PLFS5favwS5i"
      },
      "execution_count": 15,
      "outputs": []
    },
    {
      "cell_type": "code",
      "source": [
        "# Sample protein sequence (replace with your own!)\n",
        "sequence = \"MVKVYAPASSANMSVGFDVLGAAVTPVDGALLGDVVTVEAAETFSLNNLGQK\"\n"
      ],
      "metadata": {
        "id": "CTBMCmYPxv6J"
      },
      "execution_count": 16,
      "outputs": []
    },
    {
      "cell_type": "markdown",
      "source": [
        "## 🧪 Step 2: Analyze the Sequence\n",
        "We’ll use BioPython’s `ProteinAnalysis` module to calculate:\n",
        "- Molecular weight\n",
        "- Isoelectric point (pI)\n",
        "- GRAVY (hydrophobicity index)\n",
        "- Amino acid frequency\n"
      ],
      "metadata": {
        "id": "IgnELWR7x5Kf"
      }
    },
    {
      "cell_type": "code",
      "source": [
        "from Bio.SeqUtils.ProtParam import ProteinAnalysis\n",
        "\n",
        "analyzed_seq = ProteinAnalysis(sequence)\n",
        "mol_weight = analyzed_seq.molecular_weight()\n",
        "isoelectric_point = analyzed_seq.isoelectric_point()\n",
        "hydrophobicity = analyzed_seq.gravy()\n",
        "amino_acids = analyzed_seq.get_amino_acids_percent()\n"
      ],
      "metadata": {
        "id": "BNl4oaZXwl1w"
      },
      "execution_count": 17,
      "outputs": []
    },
    {
      "cell_type": "markdown",
      "source": [
        "## 📊 Step 3: Display Protein Properties\n",
        "The calculated values are shown below:\n"
      ],
      "metadata": {
        "id": "nX6ysFONyEZW"
      }
    },
    {
      "cell_type": "code",
      "source": [
        "print(\"🔬 Molecular Weight:\", round(mol_weight, 2), \"Da\")\n",
        "print(\"🧪 Isoelectric Point (pI):\", round(isoelectric_point, 2))\n",
        "print(\"💧 Hydrophobicity (GRAVY):\", round(hydrophobicity, 3))\n",
        "\n"
      ],
      "metadata": {
        "colab": {
          "base_uri": "https://localhost:8080/"
        },
        "id": "7Rt-ZSitwtli",
        "outputId": "ad3955e9-20f9-477f-d877-720e108b8704"
      },
      "execution_count": 18,
      "outputs": [
        {
          "output_type": "stream",
          "name": "stdout",
          "text": [
            "🔬 Molecular Weight: 5225.9 Da\n",
            "🧪 Isoelectric Point (pI): 4.1\n",
            "💧 Hydrophobicity (GRAVY): 0.567\n"
          ]
        }
      ]
    },
    {
      "cell_type": "markdown",
      "source": [
        "## 🔍 Step 4: Amino Acid Composition\n",
        "Let's view the distribution of each amino acid in the sequence:\n"
      ],
      "metadata": {
        "id": "1-capp15yVsl"
      }
    },
    {
      "cell_type": "code",
      "source": [
        "for aa, percent in amino_acids.items():\n",
        "    print(f\"{aa}: {round(percent * 100, 2)}%\")\n"
      ],
      "metadata": {
        "colab": {
          "base_uri": "https://localhost:8080/"
        },
        "id": "aJjI0rcAyW4p",
        "outputId": "bbfe2bd2-7c23-49b8-cecf-e003548cd965"
      },
      "execution_count": 19,
      "outputs": [
        {
          "output_type": "stream",
          "name": "stdout",
          "text": [
            "A: 15.38%\n",
            "C: 0.0%\n",
            "D: 5.77%\n",
            "E: 3.85%\n",
            "F: 3.85%\n",
            "G: 9.62%\n",
            "H: 0.0%\n",
            "I: 0.0%\n",
            "K: 3.85%\n",
            "L: 9.62%\n",
            "M: 3.85%\n",
            "N: 5.77%\n",
            "P: 3.85%\n",
            "Q: 1.92%\n",
            "R: 0.0%\n",
            "S: 7.69%\n",
            "T: 5.77%\n",
            "V: 17.31%\n",
            "W: 0.0%\n",
            "Y: 1.92%\n"
          ]
        }
      ]
    },
    {
      "cell_type": "markdown",
      "source": [
        "## 📈 Step 5: Visualize the Composition\n",
        "We’ll use a bar chart to show amino acid frequencies:\n"
      ],
      "metadata": {
        "id": "g5ip8x9fynr9"
      }
    },
    {
      "cell_type": "code",
      "source": [
        "import matplotlib.pyplot as plt\n",
        "\n",
        "labels = list(amino_acids.keys())\n",
        "values = [round(v * 100, 2) for v in amino_acids.values()]\n",
        "\n",
        "plt.figure(figsize=(10, 5))\n",
        "plt.bar(labels, values, color='lightgreen', edgecolor='black')\n",
        "plt.title(\"Amino Acid Composition (%)\")\n",
        "plt.xlabel(\"Amino Acids\")\n",
        "plt.ylabel(\"Percentage\")\n",
        "plt.grid(axis='y', linestyle='--', alpha=0.7)\n",
        "plt.show()\n"
      ],
      "metadata": {
        "colab": {
          "base_uri": "https://localhost:8080/",
          "height": 487
        },
        "id": "JN4ApQXeypBM",
        "outputId": "93a3bfba-92ad-46a7-a610-7e630e9256f9"
      },
      "execution_count": 20,
      "outputs": [
        {
          "output_type": "display_data",
          "data": {
            "text/plain": [
              "<Figure size 1000x500 with 1 Axes>"
            ],
            "image/png": "[encoded data removed]"
          },
          "metadata": {}
        }
      ]
    },
    {
      "cell_type": "markdown",
      "source": [
        "## ✅ Conclusion\n",
        "This protein analyzer extracts key physical and chemical properties of any input protein sequence. It's useful for bioinformatics, computational biology, and R&D applications.\n",
        "\n",
        "---\n",
        "\n"
      ],
      "metadata": {
        "id": "qIH3FTVpyyVr"
      }
    }
  ]
}